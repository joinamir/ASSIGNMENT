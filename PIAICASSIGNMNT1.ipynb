{
 "cells": [
  {
   "cell_type": "code",
   "execution_count": 1,
   "metadata": {},
   "outputs": [
    {
     "name": "stdout",
     "output_type": "stream",
     "text": [
      "Enter your dist in list add:3\n",
      "Enter Name:hamza ali\n",
      "Enter Age:25\n",
      "Enter work:a.i\n",
      "plz enter three skills:\n",
      "Enter skills 1:python\n",
      "Enter skills 2:tensorflow\n",
      "Enter skills 3:cloud\n",
      "Enter degree title:bs\n",
      "Enter degree Major:computer science\n",
      "Enter degree completionDate:jun 19\n",
      "Enter Salary:259999\n",
      "Enter Name:farooq aziz\n",
      "Enter Age:27\n",
      "Enter work:cloud native\n",
      "plz enter three skills:\n",
      "Enter skills 1:ubuntu\n",
      "Enter skills 2:docker\n",
      "Enter skills 3:kubernetes\n",
      "Enter degree title:ms\n",
      "Enter degree Major:software engineer\n",
      "Enter degree completionDate:feb 12\n",
      "Enter Salary:200000\n",
      "Enter Name:abu bakr\n",
      "Enter Age:30\n",
      "Enter work:blockchain\n",
      "plz enter three skills:\n",
      "Enter skills 1:python \n",
      "Enter skills 2:crytography\n",
      "Enter skills 3:ethereum\n",
      "Enter degree title:bs\n",
      "Enter degree Major:computer science\n",
      "Enter degree completionDate:jun 19\n",
      "Enter Salary:300000\n",
      "[{'name': 'Hamza Ali', 'Age': '25', 'work': 'A.I', 'skills': ['python', 'tensorflow', 'cloud'], 'degree': {'title': 'BS', 'major': 'Computer Science', 'completionDate': 'jun 19'}, 'salary': '259999'}, {'name': 'Farooq Aziz', 'Age': '27', 'work': 'CLOUD NATIVE', 'skills': ['ubuntu', 'docker', 'kubernetes'], 'degree': {'title': 'MS', 'major': 'Software Engineer', 'completionDate': 'feb 12'}, 'salary': '200000'}, {'name': 'Abu Bakr', 'Age': '30', 'work': 'BLOCKCHAIN', 'skills': ['python ', 'crytography', 'ethereum'], 'degree': {'title': 'BS', 'major': 'Computer Science', 'completionDate': 'jun 19'}, 'salary': '300000'}]\n"
     ]
    }
   ],
   "source": [
    "lll = []\n",
    "inter =int(input(\"Enter your dist in list add:\"))\n",
    "for x in range(inter):\n",
    "    name =input(\"Enter Name:\")\n",
    "    i = name.title()\n",
    "    Age =input(\"Enter Age:\")\n",
    "    work =input(\"Enter work:\")\n",
    "    j = work.upper()\n",
    "    print(\"plz enter three skills:\")\n",
    "    s1 =input(\"Enter skills 1:\")\n",
    "    s2=input(\"Enter skills 2:\")\n",
    "    s3=input(\"Enter skills 3:\")\n",
    "    sk = []\n",
    "    sk.append(s1)\n",
    "    sk.append(s2)\n",
    "    sk.append(s3)\n",
    "    title =input(\"Enter degree title:\")\n",
    "    k = title.upper()\n",
    "    major =input(\"Enter degree Major:\")\n",
    "    l =major.title()\n",
    "    completionDate = input(\"Enter degree completionDate:\")\n",
    "    salary =input(\"Enter Salary:\")\n",
    "    degree = {\"title\" : k,\"major\" : l, \"completionDate\" : completionDate}\n",
    "    dicta ={\n",
    "    \"name\" : i ,\n",
    "    \"Age\"  : Age ,\n",
    "    \"work\" : j,\n",
    "    \"skills\" : [s1,s2,s3],\n",
    "    \"degree\" :  {\"title\" : k,\"major\" : l, \"completionDate\" : completionDate},\n",
    "    \"salary\" : salary\n",
    "    }\n",
    "    lll.append(dicta)\n",
    "print(lll)"
   ]
  },
  {
   "cell_type": "code",
   "execution_count": null,
   "metadata": {},
   "outputs": [],
   "source": []
  }
 ],
 "metadata": {
  "kernelspec": {
   "display_name": "Python 3",
   "language": "python",
   "name": "python3"
  },
  "language_info": {
   "codemirror_mode": {
    "name": "ipython",
    "version": 3
   },
   "file_extension": ".py",
   "mimetype": "text/x-python",
   "name": "python",
   "nbconvert_exporter": "python",
   "pygments_lexer": "ipython3",
   "version": "3.7.4"
  }
 },
 "nbformat": 4,
 "nbformat_minor": 4
}
