{
 "cells": [
  {
   "cell_type": "code",
   "execution_count": null,
   "metadata": {},
   "outputs": [],
   "source": [
    "\n",
    "table1 =int(input(\"Enter your table No First:\"))\n",
    "table2 =int(input(\"Enter your table No second:\"))\n",
    "print(\"OUTPUT ONE\")\n",
    "for i in range(table1 , table2+1):\n",
    "  for j in range(1,11):\n",
    "    print(j,\"*\",i,\"=\",j*i)\n",
    "  print(\"\\n\")\n"
   ]
  },
  {
   "cell_type": "code",
   "execution_count": 7,
   "metadata": {},
   "outputs": [
    {
     "name": "stdout",
     "output_type": "stream",
     "text": [
      "Enter your table No First:5\n",
      "Enter your table No second:10\n",
      "OUTPUT TWO\n",
      "5 * 1 = 5 \t 6 * 1 = 6 \t 7 * 1 = 7 \t 8 * 1 = 8 \t 9 * 1 = 9 \t 10 * 1 = 10\n",
      "5 * 2 = 10 \t 6 * 2 = 12 \t 7 * 2 = 14 \t 8 * 2 = 16 \t 9 * 2 = 18 \t 10 * 2 = 20\n",
      "5 * 3 = 15 \t 6 * 3 = 18 \t 7 * 3 = 21 \t 8 * 3 = 24 \t 9 * 3 = 27 \t 10 * 3 = 30\n",
      "5 * 4 = 20 \t 6 * 4 = 24 \t 7 * 4 = 28 \t 8 * 4 = 32 \t 9 * 4 = 36 \t 10 * 4 = 40\n",
      "5 * 5 = 25 \t 6 * 5 = 30 \t 7 * 5 = 35 \t 8 * 5 = 40 \t 9 * 5 = 45 \t 10 * 5 = 50\n",
      "5 * 6 = 30 \t 6 * 6 = 36 \t 7 * 6 = 42 \t 8 * 6 = 48 \t 9 * 6 = 54 \t 10 * 6 = 60\n",
      "5 * 7 = 35 \t 6 * 7 = 42 \t 7 * 7 = 49 \t 8 * 7 = 56 \t 9 * 7 = 63 \t 10 * 7 = 70\n",
      "5 * 8 = 40 \t 6 * 8 = 48 \t 7 * 8 = 56 \t 8 * 8 = 64 \t 9 * 8 = 72 \t 10 * 8 = 80\n",
      "5 * 9 = 45 \t 6 * 9 = 54 \t 7 * 9 = 63 \t 8 * 9 = 72 \t 9 * 9 = 81 \t 10 * 9 = 90\n",
      "5 * 10 = 50 \t 6 * 10 = 60 \t 7 * 10 = 70 \t 8 * 10 = 80 \t 9 * 10 = 90 \t 10 * 10 = 100\n"
     ]
    }
   ],
   "source": [
    "# output two\n",
    "table1 =int(input(\"Enter your table No First:\"))\n",
    "table2 =int(input(\"Enter your table No second:\"))\n",
    "\n",
    "print(\"OUTPUT TWO\")\n",
    "for i in range(table1 , table2):\n",
    "  for j in range(1,11):\n",
    "    print(i,\"*\",j,\"=\",j*i,\"\\t\", i+1,\"*\",j,\"=\",j*(i+1),\"\\t\", i+2,\"*\",j,\"=\",j*(i+2),\"\\t\",i+3,\"*\",j,\"=\",j*(i+3),\"\\t\",i+4,\"*\",j,\"=\",j*(i+4),\"\\t\",i+5,\"*\",j,\"=\",j*(i+5) )\n",
    "  break"
   ]
  },
  {
   "cell_type": "code",
   "execution_count": null,
   "metadata": {},
   "outputs": [],
   "source": []
  }
 ],
 "metadata": {
  "kernelspec": {
   "display_name": "Python 3",
   "language": "python",
   "name": "python3"
  },
  "language_info": {
   "codemirror_mode": {
    "name": "ipython",
    "version": 3
   },
   "file_extension": ".py",
   "mimetype": "text/x-python",
   "name": "python",
   "nbconvert_exporter": "python",
   "pygments_lexer": "ipython3",
   "version": "3.7.4"
  }
 },
 "nbformat": 4,
 "nbformat_minor": 4
}
